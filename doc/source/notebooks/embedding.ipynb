{
 "cells": [
  {
   "cell_type": "code",
   "execution_count": null,
   "metadata": {},
   "outputs": [],
   "source": [
    "%cd $(find ~ -name GreenplumPython)\n",
    "!python3 -m pip install --upgrade ."
   ]
  },
  {
   "cell_type": "code",
   "execution_count": null,
   "metadata": {},
   "outputs": [],
   "source": [
    "content = [\"I have a dog.\", \"I like eating apples.\"]\n",
    "\n",
    "import greenplumpython as gp\n",
    "\n",
    "db = gp.database(\"postgresql://localhost:7000\")\n",
    "t = db.create_dataframe(columns={\"id\": range(len(content)), \"content\": content})"
   ]
  },
  {
   "cell_type": "code",
   "execution_count": null,
   "metadata": {},
   "outputs": [],
   "source": [
    "import greenplumpython.experimental.embedding\n",
    "\n",
    "gp.config.print_sql = True\n",
    "\n",
    "t = t.save_as(\n",
    "    column_names=[\"id\", \"content\"], distribution_key={\"id\"}, distribution_type=\"hash\"\n",
    ").check_unique(columns={\"id\"})\n",
    "t = t.embedding().create_index(column=\"content\", model=\"all-MiniLM-L6-v2\")\n",
    "t"
   ]
  },
  {
   "cell_type": "code",
   "execution_count": null,
   "metadata": {},
   "outputs": [],
   "source": [
    "t.embedding().search(column=\"content\", query=\"apple\", top_k=1)"
   ]
  }
 ],
 "metadata": {
  "kernelspec": {
   "display_name": "Python 3",
   "language": "python",
   "name": "python3"
  },
  "language_info": {
   "codemirror_mode": {
    "name": "ipython",
    "version": 3
   },
   "file_extension": ".py",
   "mimetype": "text/x-python",
   "name": "python",
   "nbconvert_exporter": "python",
   "pygments_lexer": "ipython3",
   "version": "3.9.13"
  },
  "orig_nbformat": 4
 },
 "nbformat": 4,
 "nbformat_minor": 2
}

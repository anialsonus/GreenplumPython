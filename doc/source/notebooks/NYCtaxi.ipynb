{
 "cells": [
  {
   "cell_type": "markdown",
   "source": [
    "# NYC taxi time prediction\n",
    "\n",
    "This notebook use the NYC taxi time dataset from https://www.kaggle.com/competitions/nyc-taxi-trip-duration/data.\n",
    "The dataset contains 1 458 644 rows, which is a quite big dataset for manipulation. This dataset has 11 columns:\n",
    "* id: a unique identifier for each trip\n",
    "* vendor_id: a code indicating the provider associated with the trip record\n",
    "* pickup_datetime: data and time when the meter was engaged\n",
    "* dropoff_datetime: date and time when the meter was disengaged\n",
    "* passenger_count: the number of passengers in the vehicle (driver entered value)\n",
    "* pickup_longitude: the longitude where the meter was engaged\n",
    "* pickup_latitude: the latitude where the meter was engaged\n",
    "* dropoff_longitude: the longitude where the meter was disengaged\n",
    "* dropoff_latitude: the latitude where the meter was disengaged\n",
    "* store_and_fwd_flag: whether the trip record was held in vehicle memory before sending to the vendor because the vehicle did not have a connection to the server\n",
    "* trip_duration: duration of trip in seconds\n",
    "\n",
    "We will use greenplumpython and follow the data science cycle (Data Exploration - Data Preparation - Data Modeling - Model Evaluation - Model Deployment) to train a Linear Regression model to predict the taxi time using this dataset."
   ],
   "metadata": {
    "collapsed": false
   }
  },
  {
   "cell_type": "markdown",
   "source": [
    "## Connection to database\n",
    "The use of greenplumpython is quite easy, you just have to install it with pip install, and import it at the beginning of the notebook.\n",
    "Then, you can do `gp.database()` to connect to the database.\n"
   ],
   "metadata": {
    "collapsed": false
   }
  },
  {
   "cell_type": "code",
   "execution_count": 1,
   "metadata": {
    "collapsed": true
   },
   "outputs": [],
   "source": [
    "import greenplumpython as gp"
   ]
  },
  {
   "cell_type": "code",
   "execution_count": 2,
   "outputs": [],
   "source": [
    "db = gp.database(host=\"localhost\", dbname=\"postgres\")"
   ],
   "metadata": {
    "collapsed": false
   }
  },
  {
   "cell_type": "markdown",
   "source": [
    "## Data Exploration\n",
    "\n",
    "The dataset is stored in the greenplum table `nyc.train`, to access it, you can do `db.open_table(\"nyc.train\")` to create a `Table` named nyc.\n"
   ],
   "metadata": {
    "collapsed": false
   }
  },
  {
   "cell_type": "code",
   "execution_count": 3,
   "outputs": [],
   "source": [
    "nyc = db.open_table(\"nyc.train\")"
   ],
   "metadata": {
    "collapsed": false
   }
  },
  {
   "cell_type": "markdown",
   "source": [
    "To view the first 5 rows of the `Table` nyc ordered by id,"
   ],
   "metadata": {
    "collapsed": false
   }
  },
  {
   "cell_type": "code",
   "execution_count": 4,
   "outputs": [
    {
     "data": {
      "text/plain": "| id        || vendor_id || pickup_datetime     || dropoff_datetime    || passenger_count || pickup_longitude   || pickup_latitude    || dropoff_longitude  || dropoff_latitude   || store_and_fwd_flag || trip_duration || trip_duration_log  |\n================================================================================================================================================================================================================================================\n| id0000001 ||         2 || 2016-06-14T10:43:10 || 2016-06-14T11:01:35 ||               1 || -74.01392364501953 || 40.713924407958984 || -73.97164916992188 ||  40.74640655517578 || N                  ||          1105 || 3.0433622780211294 |\n| id0000003 ||         2 || 2016-03-16T10:39:55 || 2016-03-16T10:57:21 ||               5 || -73.99075317382812 ||   40.7547607421875 || -74.00711822509766 ||  40.74153137207031 || N                  ||          1046 || 3.0195316845312554 |\n| id0000005 ||         2 || 2016-04-25T09:50:48 || 2016-04-25T09:56:56 ||               1 || -73.95310974121094 || 40.798580169677734 || -73.96817779541016 || 40.800270080566406 || N                  ||           368 || 2.5658478186735176 |\n| id0000008 ||         1 || 2016-06-15T09:57:05 || 2016-06-15T10:02:08 ||               1 || -74.00962829589844 || 40.724761962890625 ||   -74.015869140625 || 40.715484619140625 || N                  ||           303 ||  2.481442628502305 |\n| id0000009 ||         1 || 2016-05-08T01:43:11 || 2016-05-08T01:52:18 ||               1 || -73.98799133300781 ||   40.7598991394043 || -73.95968627929688 ||  40.79850387573242 || N                  ||           547 ||  2.737987326333431 |",
      "text/html": "<table>\n\t<tr>\n\t\t<th>id</th>\n\t\t<th>vendor_id</th>\n\t\t<th>pickup_datetime</th>\n\t\t<th>dropoff_datetime</th>\n\t\t<th>passenger_count</th>\n\t\t<th>pickup_longitude</th>\n\t\t<th>pickup_latitude</th>\n\t\t<th>dropoff_longitude</th>\n\t\t<th>dropoff_latitude</th>\n\t\t<th>store_and_fwd_flag</th>\n\t\t<th>trip_duration</th>\n\t\t<th>trip_duration_log</th>\n\t</tr>\n\t<tr>\n\t\t<td>id0000001</td>\n\t\t<td>2</td>\n\t\t<td>2016-06-14T10:43:10</td>\n\t\t<td>2016-06-14T11:01:35</td>\n\t\t<td>1</td>\n\t\t<td>-74.01392364501953</td>\n\t\t<td>40.713924407958984</td>\n\t\t<td>-73.97164916992188</td>\n\t\t<td>40.74640655517578</td>\n\t\t<td>N</td>\n\t\t<td>1105</td>\n\t\t<td>3.0433622780211294</td>\n\t</tr>\n\t<tr>\n\t\t<td>id0000003</td>\n\t\t<td>2</td>\n\t\t<td>2016-03-16T10:39:55</td>\n\t\t<td>2016-03-16T10:57:21</td>\n\t\t<td>5</td>\n\t\t<td>-73.99075317382812</td>\n\t\t<td>40.7547607421875</td>\n\t\t<td>-74.00711822509766</td>\n\t\t<td>40.74153137207031</td>\n\t\t<td>N</td>\n\t\t<td>1046</td>\n\t\t<td>3.0195316845312554</td>\n\t</tr>\n\t<tr>\n\t\t<td>id0000005</td>\n\t\t<td>2</td>\n\t\t<td>2016-04-25T09:50:48</td>\n\t\t<td>2016-04-25T09:56:56</td>\n\t\t<td>1</td>\n\t\t<td>-73.95310974121094</td>\n\t\t<td>40.798580169677734</td>\n\t\t<td>-73.96817779541016</td>\n\t\t<td>40.800270080566406</td>\n\t\t<td>N</td>\n\t\t<td>368</td>\n\t\t<td>2.5658478186735176</td>\n\t</tr>\n\t<tr>\n\t\t<td>id0000008</td>\n\t\t<td>1</td>\n\t\t<td>2016-06-15T09:57:05</td>\n\t\t<td>2016-06-15T10:02:08</td>\n\t\t<td>1</td>\n\t\t<td>-74.00962829589844</td>\n\t\t<td>40.724761962890625</td>\n\t\t<td>-74.015869140625</td>\n\t\t<td>40.715484619140625</td>\n\t\t<td>N</td>\n\t\t<td>303</td>\n\t\t<td>2.481442628502305</td>\n\t</tr>\n\t<tr>\n\t\t<td>id0000009</td>\n\t\t<td>1</td>\n\t\t<td>2016-05-08T01:43:11</td>\n\t\t<td>2016-05-08T01:52:18</td>\n\t\t<td>1</td>\n\t\t<td>-73.98799133300781</td>\n\t\t<td>40.7598991394043</td>\n\t\t<td>-73.95968627929688</td>\n\t\t<td>40.79850387573242</td>\n\t\t<td>N</td>\n\t\t<td>547</td>\n\t\t<td>2.737987326333431</td>\n\t</tr>\n</table>"
     },
     "execution_count": 4,
     "metadata": {},
     "output_type": "execute_result"
    }
   ],
   "source": [
    "nyc.order_by(\"id\")[:5]"
   ],
   "metadata": {
    "collapsed": false
   }
  },
  {
   "cell_type": "markdown",
   "source": [
    "## Data Preparation"
   ],
   "metadata": {
    "collapsed": false
   }
  },
  {
   "cell_type": "markdown",
   "source": [
    "Create a new `Table` nyc_clean which contains rows of nyc where passenger_count <> 0"
   ],
   "metadata": {
    "collapsed": false
   }
  },
  {
   "cell_type": "code",
   "execution_count": 5,
   "outputs": [],
   "source": [
    "nyc_clean = nyc[lambda t: t[\"passenger_count\"] != 0] # Eliminate record with 0 passenger on board"
   ],
   "metadata": {
    "collapsed": false
   }
  },
  {
   "cell_type": "code",
   "execution_count": 6,
   "outputs": [
    {
     "data": {
      "text/plain": "| id        || vendor_id || pickup_datetime     || dropoff_datetime    || passenger_count || pickup_longitude   || pickup_latitude   || dropoff_longitude  || dropoff_latitude   || store_and_fwd_flag || trip_duration || trip_duration_log  |\n===============================================================================================================================================================================================================================================\n| id3504673 ||         2 || 2016-04-06T19:32:31 || 2016-04-06T19:39:40 ||               1 || -74.01004028320312 ||   40.719970703125 || -74.01226806640625 ||  40.70671844482422 || N                  ||           429 || 2.6324572921847245 |\n| id1324603 ||         2 || 2016-05-21T07:54:58 || 2016-05-21T08:20:49 ||               1 || -73.96927642822266 || 40.79777908325195 || -73.92247009277344 ||  40.76055908203125 || N                  ||          1551 ||  3.190611797813605 |\n| id0012891 ||         2 || 2016-03-10T21:45:01 || 2016-03-10T22:05:26 ||               1 || -73.98104858398438 || 40.74433898925781 ||  -73.9729995727539 ||  40.78998947143555 || N                  ||          1225 || 3.0881360887005513 |\n| id1436371 ||         2 || 2016-05-10T22:08:41 || 2016-05-10T22:29:55 ||               1 || -73.98265075683594 || 40.76383972167969 || -74.00222778320312 ||  40.73299026489258 || N                  ||          1274 || 3.1051694279993316 |\n| id1187965 ||         2 || 2016-02-19T09:52:46 || 2016-02-19T10:11:20 ||               2 || -73.96298217773438 || 40.75667953491211 || -73.98440551757812 || 40.760719299316406 || N                  ||          1114 ||   3.04688519083771 |",
      "text/html": "<table>\n\t<tr>\n\t\t<th>id</th>\n\t\t<th>vendor_id</th>\n\t\t<th>pickup_datetime</th>\n\t\t<th>dropoff_datetime</th>\n\t\t<th>passenger_count</th>\n\t\t<th>pickup_longitude</th>\n\t\t<th>pickup_latitude</th>\n\t\t<th>dropoff_longitude</th>\n\t\t<th>dropoff_latitude</th>\n\t\t<th>store_and_fwd_flag</th>\n\t\t<th>trip_duration</th>\n\t\t<th>trip_duration_log</th>\n\t</tr>\n\t<tr>\n\t\t<td>id3504673</td>\n\t\t<td>2</td>\n\t\t<td>2016-04-06T19:32:31</td>\n\t\t<td>2016-04-06T19:39:40</td>\n\t\t<td>1</td>\n\t\t<td>-74.01004028320312</td>\n\t\t<td>40.719970703125</td>\n\t\t<td>-74.01226806640625</td>\n\t\t<td>40.70671844482422</td>\n\t\t<td>N</td>\n\t\t<td>429</td>\n\t\t<td>2.6324572921847245</td>\n\t</tr>\n\t<tr>\n\t\t<td>id1324603</td>\n\t\t<td>2</td>\n\t\t<td>2016-05-21T07:54:58</td>\n\t\t<td>2016-05-21T08:20:49</td>\n\t\t<td>1</td>\n\t\t<td>-73.96927642822266</td>\n\t\t<td>40.79777908325195</td>\n\t\t<td>-73.92247009277344</td>\n\t\t<td>40.76055908203125</td>\n\t\t<td>N</td>\n\t\t<td>1551</td>\n\t\t<td>3.190611797813605</td>\n\t</tr>\n\t<tr>\n\t\t<td>id0012891</td>\n\t\t<td>2</td>\n\t\t<td>2016-03-10T21:45:01</td>\n\t\t<td>2016-03-10T22:05:26</td>\n\t\t<td>1</td>\n\t\t<td>-73.98104858398438</td>\n\t\t<td>40.74433898925781</td>\n\t\t<td>-73.9729995727539</td>\n\t\t<td>40.78998947143555</td>\n\t\t<td>N</td>\n\t\t<td>1225</td>\n\t\t<td>3.0881360887005513</td>\n\t</tr>\n\t<tr>\n\t\t<td>id1436371</td>\n\t\t<td>2</td>\n\t\t<td>2016-05-10T22:08:41</td>\n\t\t<td>2016-05-10T22:29:55</td>\n\t\t<td>1</td>\n\t\t<td>-73.98265075683594</td>\n\t\t<td>40.76383972167969</td>\n\t\t<td>-74.00222778320312</td>\n\t\t<td>40.73299026489258</td>\n\t\t<td>N</td>\n\t\t<td>1274</td>\n\t\t<td>3.1051694279993316</td>\n\t</tr>\n\t<tr>\n\t\t<td>id1187965</td>\n\t\t<td>2</td>\n\t\t<td>2016-02-19T09:52:46</td>\n\t\t<td>2016-02-19T10:11:20</td>\n\t\t<td>2</td>\n\t\t<td>-73.96298217773438</td>\n\t\t<td>40.75667953491211</td>\n\t\t<td>-73.98440551757812</td>\n\t\t<td>40.760719299316406</td>\n\t\t<td>N</td>\n\t\t<td>1114</td>\n\t\t<td>3.04688519083771</td>\n\t</tr>\n</table>"
     },
     "execution_count": 6,
     "metadata": {},
     "output_type": "execute_result"
    }
   ],
   "source": [
    "nyc_clean[:5]"
   ],
   "metadata": {
    "collapsed": false
   }
  },
  {
   "cell_type": "markdown",
   "source": [
    "Get access to two defined functions in Greenplum to help us extract the day of week, the hour and the month from column pickuo_datetime and add these three new columns calling `assign()`."
   ],
   "metadata": {
    "collapsed": false
   }
  },
  {
   "cell_type": "code",
   "execution_count": 7,
   "outputs": [],
   "source": [
    "to_char = gp.function(\"To_Char\")"
   ],
   "metadata": {
    "collapsed": false
   }
  },
  {
   "cell_type": "code",
   "execution_count": 8,
   "outputs": [],
   "source": [
    "date_part = gp.function(\"date_part\")"
   ],
   "metadata": {
    "collapsed": false
   }
  },
  {
   "cell_type": "code",
   "execution_count": 9,
   "outputs": [],
   "source": [
    "nyc_clean = nyc_clean.assign(\n",
    "    day_of_week=lambda t: to_char(t[\"pickup_datetime\"], 'Day'), # Extract Day of week from pickup_datetime\n",
    "    hour_of_the_day=lambda t: date_part('hour', t[\"pickup_datetime\"]), # Extract hour from pickup_datetime\n",
    "    month=lambda t: date_part('month', t[\"pickup_datetime\"]) # Extract month from pickup_datetime\n",
    ")"
   ],
   "metadata": {
    "collapsed": false
   }
  },
  {
   "cell_type": "code",
   "execution_count": 10,
   "outputs": [
    {
     "data": {
      "text/plain": "| pickup_datetime     || day_of_week || hour_of_the_day || month |\n==================================================================\n| 2016-06-12T00:43:35 || Sunday      ||               0 ||     6 |\n| 2016-01-19T11:35:24 || Tuesday     ||              11 ||     1 |\n| 2016-03-26T13:30:55 || Saturday    ||              13 ||     3 |\n| 2016-05-27T23:12:23 || Friday      ||              23 ||     5 |\n| 2016-06-01T20:58:29 || Wednesday   ||              20 ||     6 |",
      "text/html": "<table>\n\t<tr>\n\t\t<th>pickup_datetime</th>\n\t\t<th>day_of_week</th>\n\t\t<th>hour_of_the_day</th>\n\t\t<th>month</th>\n\t</tr>\n\t<tr>\n\t\t<td>2016-06-12T00:43:35</td>\n\t\t<td>Sunday   </td>\n\t\t<td>0</td>\n\t\t<td>6</td>\n\t</tr>\n\t<tr>\n\t\t<td>2016-01-19T11:35:24</td>\n\t\t<td>Tuesday  </td>\n\t\t<td>11</td>\n\t\t<td>1</td>\n\t</tr>\n\t<tr>\n\t\t<td>2016-03-26T13:30:55</td>\n\t\t<td>Saturday </td>\n\t\t<td>13</td>\n\t\t<td>3</td>\n\t</tr>\n\t<tr>\n\t\t<td>2016-05-27T23:12:23</td>\n\t\t<td>Friday   </td>\n\t\t<td>23</td>\n\t\t<td>5</td>\n\t</tr>\n\t<tr>\n\t\t<td>2016-06-01T20:58:29</td>\n\t\t<td>Wednesday</td>\n\t\t<td>20</td>\n\t\t<td>6</td>\n\t</tr>\n</table>"
     },
     "execution_count": 10,
     "metadata": {},
     "output_type": "execute_result"
    }
   ],
   "source": [
    "nyc_clean[[\"pickup_datetime\", \"day_of_week\", \"hour_of_the_day\", \"month\"]][:5]"
   ],
   "metadata": {
    "collapsed": false
   }
  },
  {
   "cell_type": "markdown",
   "source": [
    "We can not only use defined function in database, but also combine python user defined function with our table.\n",
    "Here, we create two functions: one to convert store_switch_flag to integer and the other convert day of week to int."
   ],
   "metadata": {
    "collapsed": false
   }
  },
  {
   "cell_type": "code",
   "execution_count": 11,
   "outputs": [],
   "source": [
    "@gp.create_function\n",
    "def switch_flag_int(flag: str) -> int:\n",
    "    if flag == 'N':\n",
    "        return 0\n",
    "    return 1\n",
    "\n",
    "@gp.create_function\n",
    "def switch_day_int(day: str) -> int:\n",
    "    day_d = day.strip()\n",
    "    if day_d == 'Monday':\n",
    "        return 1\n",
    "    elif day_d == 'Tuesday':\n",
    "        return 2\n",
    "    elif day_d == 'Wednesday':\n",
    "        return 3\n",
    "    elif day_d == 'Thursday':\n",
    "        return 4\n",
    "    elif day_d == 'Friday':\n",
    "        return 5\n",
    "    elif day_d == 'Saturday':\n",
    "        return 6\n",
    "    else:\n",
    "        return 7"
   ],
   "metadata": {
    "collapsed": false
   }
  },
  {
   "cell_type": "markdown",
   "source": [
    "Let's call assign() with these two functions above to extend the table nyc_clean with two new columns."
   ],
   "metadata": {
    "collapsed": false
   }
  },
  {
   "cell_type": "code",
   "execution_count": 12,
   "outputs": [],
   "source": [
    "nyc_clean = nyc_clean.assign(\n",
    "    store_and_fwd_flag_int=lambda t: switch_flag_int(t[\"store_and_fwd_flag\"]), # Transform store_and_flag to binary int\n",
    "    day_of_week_int=lambda t: switch_day_int(t[\"day_of_week\"])) # Transform day_of_week to int"
   ],
   "metadata": {
    "collapsed": false
   }
  },
  {
   "cell_type": "code",
   "execution_count": 13,
   "outputs": [
    {
     "data": {
      "text/plain": "| store_and_fwd_flag || store_and_fwd_flag_int || day_of_week || day_of_week_int |\n==================================================================================\n| N                  ||                      0 || Monday      ||               1 |\n| N                  ||                      0 || Saturday    ||               6 |\n| N                  ||                      0 || Friday      ||               5 |\n| N                  ||                      0 || Sunday      ||               7 |\n| N                  ||                      0 || Monday      ||               1 |",
      "text/html": "<table>\n\t<tr>\n\t\t<th>store_and_fwd_flag</th>\n\t\t<th>store_and_fwd_flag_int</th>\n\t\t<th>day_of_week</th>\n\t\t<th>day_of_week_int</th>\n\t</tr>\n\t<tr>\n\t\t<td>N</td>\n\t\t<td>0</td>\n\t\t<td>Monday   </td>\n\t\t<td>1</td>\n\t</tr>\n\t<tr>\n\t\t<td>N</td>\n\t\t<td>0</td>\n\t\t<td>Saturday </td>\n\t\t<td>6</td>\n\t</tr>\n\t<tr>\n\t\t<td>N</td>\n\t\t<td>0</td>\n\t\t<td>Friday   </td>\n\t\t<td>5</td>\n\t</tr>\n\t<tr>\n\t\t<td>N</td>\n\t\t<td>0</td>\n\t\t<td>Sunday   </td>\n\t\t<td>7</td>\n\t</tr>\n\t<tr>\n\t\t<td>N</td>\n\t\t<td>0</td>\n\t\t<td>Monday   </td>\n\t\t<td>1</td>\n\t</tr>\n</table>"
     },
     "execution_count": 13,
     "metadata": {},
     "output_type": "execute_result"
    }
   ],
   "source": [
    "nyc_clean[[\"store_and_fwd_flag\", \"store_and_fwd_flag_int\", \"day_of_week\", \"day_of_week_int\"]][:5]"
   ],
   "metadata": {
    "collapsed": false
   }
  },
  {
   "cell_type": "markdown",
   "source": [
    "The distance of trip influence a lot the time of duration, so here we create a function to compute the haversine distance between two geological glopes."
   ],
   "metadata": {
    "collapsed": false
   }
  },
  {
   "cell_type": "code",
   "execution_count": 14,
   "outputs": [],
   "source": [
    "@gp.create_function\n",
    "def haversine(lat1: float, lon1: float, lat2: float, lon2: float) -> float:\n",
    "    import math\n",
    "\n",
    "    # distance between latitudes\n",
    "    # and longitudes\n",
    "    dLat = (lat2 - lat1) * math.pi / 180.0\n",
    "    dLon = (lon2 - lon1) * math.pi / 180.0\n",
    "\n",
    "    # convert to radians\n",
    "    llat1 = (lat1) * math.pi / 180.0\n",
    "    llat2 = (lat2) * math.pi / 180.0\n",
    "\n",
    "    # apply formulae\n",
    "    a = (pow(math.sin(dLat / 2), 2) +\n",
    "         pow(math.sin(dLon / 2), 2) *\n",
    "             math.cos(llat1) * math.cos(llat2));\n",
    "    rad = 6371\n",
    "    c = 2 * math.asin(math.sqrt(a))\n",
    "    return rad * c"
   ],
   "metadata": {
    "collapsed": false
   }
  },
  {
   "cell_type": "code",
   "execution_count": 15,
   "outputs": [],
   "source": [
    "nyc_clean = nyc_clean.assign(\n",
    "    distance=lambda t: haversine(\n",
    "                        t[\"pickup_latitude\"],\n",
    "                        t[\"pickup_longitude\"],\n",
    "                        t[\"dropoff_latitude\"],\n",
    "                        t[\"dropoff_longitude\"],\n",
    "    )\n",
    ") # Compute distance between start and end of trip"
   ],
   "metadata": {
    "collapsed": false
   }
  },
  {
   "cell_type": "code",
   "execution_count": 16,
   "outputs": [
    {
     "data": {
      "text/plain": "| distance           |\n======================\n|  1.485498422771006 |\n|   5.71498063078935 |\n|  5.121161562140607 |\n|   3.80613939487619 |\n| 1.8594830202295125 |",
      "text/html": "<table>\n\t<tr>\n\t\t<th>distance</th>\n\t</tr>\n\t<tr>\n\t\t<td>1.485498422771006</td>\n\t</tr>\n\t<tr>\n\t\t<td>5.71498063078935</td>\n\t</tr>\n\t<tr>\n\t\t<td>5.121161562140607</td>\n\t</tr>\n\t<tr>\n\t\t<td>3.80613939487619</td>\n\t</tr>\n\t<tr>\n\t\t<td>1.8594830202295125</td>\n\t</tr>\n</table>"
     },
     "execution_count": 16,
     "metadata": {},
     "output_type": "execute_result"
    }
   ],
   "source": [
    "nyc_clean[[\"distance\"]][:5]"
   ],
   "metadata": {
    "collapsed": false
   }
  },
  {
   "cell_type": "markdown",
   "source": [
    "nyc_clean = nyc_clean[[\n",
    "                \"vendor_id\",\n",
    "                \"passenger_count\",\n",
    "                \"store_and_fwd_flag_int\",\n",
    "                \"trip_duration\",\n",
    "                \"day_of_week_int\",\n",
    "                \"hour_of_the_day\",\n",
    "                \"month\",\n",
    "                \"distance\",\n",
    "]"
   ],
   "metadata": {
    "collapsed": false
   }
  },
  {
   "cell_type": "markdown",
   "source": [
    "After obtained our prepared data, let't save the data of `Table` nyc_clean into a new `Table`"
   ],
   "metadata": {
    "collapsed": false
   }
  },
  {
   "cell_type": "code",
   "execution_count": 18,
   "outputs": [],
   "source": [
    "db.execute(\"DROP TABLE IF EXISTS nyc_clean\", has_results=False)"
   ],
   "metadata": {
    "collapsed": false
   }
  },
  {
   "cell_type": "code",
   "execution_count": 19,
   "outputs": [],
   "source": [
    "nyc_clean = nyc_clean.save_into(\"nyc_clean\") # Save the clean prepared dataset to Greenplum"
   ],
   "metadata": {
    "collapsed": false
   }
  },
  {
   "cell_type": "code",
   "execution_count": 20,
   "outputs": [
    {
     "data": {
      "text/plain": "| vendor_id || passenger_count || store_and_fwd_flag_int || trip_duration || day_of_week_int || hour_of_the_day || month || distance           |\n================================================================================================================================================\n|         2 ||               1 ||                      0 ||           429 ||               3 ||              19 ||     4 ||  1.485498422771006 |\n|         2 ||               1 ||                      0 ||          1551 ||               6 ||               7 ||     5 ||   5.71498063078935 |\n|         2 ||               1 ||                      0 ||          1225 ||               4 ||              21 ||     3 ||  5.121161562140607 |\n|         2 ||               1 ||                      0 ||          1274 ||               2 ||              22 ||     5 ||   3.80613939487619 |\n|         2 ||               2 ||                      0 ||          1114 ||               5 ||               9 ||     2 || 1.8594830202295125 |",
      "text/html": "<table>\n\t<tr>\n\t\t<th>vendor_id</th>\n\t\t<th>passenger_count</th>\n\t\t<th>store_and_fwd_flag_int</th>\n\t\t<th>trip_duration</th>\n\t\t<th>day_of_week_int</th>\n\t\t<th>hour_of_the_day</th>\n\t\t<th>month</th>\n\t\t<th>distance</th>\n\t</tr>\n\t<tr>\n\t\t<td>2</td>\n\t\t<td>1</td>\n\t\t<td>0</td>\n\t\t<td>429</td>\n\t\t<td>3</td>\n\t\t<td>19</td>\n\t\t<td>4</td>\n\t\t<td>1.485498422771006</td>\n\t</tr>\n\t<tr>\n\t\t<td>2</td>\n\t\t<td>1</td>\n\t\t<td>0</td>\n\t\t<td>1551</td>\n\t\t<td>6</td>\n\t\t<td>7</td>\n\t\t<td>5</td>\n\t\t<td>5.71498063078935</td>\n\t</tr>\n\t<tr>\n\t\t<td>2</td>\n\t\t<td>1</td>\n\t\t<td>0</td>\n\t\t<td>1225</td>\n\t\t<td>4</td>\n\t\t<td>21</td>\n\t\t<td>3</td>\n\t\t<td>5.121161562140607</td>\n\t</tr>\n\t<tr>\n\t\t<td>2</td>\n\t\t<td>1</td>\n\t\t<td>0</td>\n\t\t<td>1274</td>\n\t\t<td>2</td>\n\t\t<td>22</td>\n\t\t<td>5</td>\n\t\t<td>3.80613939487619</td>\n\t</tr>\n\t<tr>\n\t\t<td>2</td>\n\t\t<td>2</td>\n\t\t<td>0</td>\n\t\t<td>1114</td>\n\t\t<td>5</td>\n\t\t<td>9</td>\n\t\t<td>2</td>\n\t\t<td>1.8594830202295125</td>\n\t</tr>\n</table>"
     },
     "execution_count": 20,
     "metadata": {},
     "output_type": "execute_result"
    }
   ],
   "source": [
    "nyc_clean[:5]"
   ],
   "metadata": {
    "collapsed": false
   }
  },
  {
   "cell_type": "markdown",
   "source": [
    "### Train Test split\n",
    "Let's split our cleaned data to train and test set."
   ],
   "metadata": {
    "collapsed": false
   }
  },
  {
   "cell_type": "code",
   "execution_count": 21,
   "outputs": [],
   "source": [
    "db.execute(\"\"\"\n",
    "    DROP TABLE IF EXISTS temp_nyc_label;\n",
    "    CREATE TEMP TABLE temp_nyc_label AS\n",
    "        (SELECT *, random() AS __samp_out_label FROM nyc_clean);\n",
    "\n",
    "    DROP TABLE IF EXISTS train_percentile_disc;\n",
    "    CREATE TEMP TABLE train_percentile_disc AS\n",
    "        (SELECT percentile_disc(0.8) within GROUP (ORDER BY __samp_out_label) AS __samp_out_label\n",
    "        FROM temp_nyc_label);\n",
    "    DROP TABLE IF EXISTS test_percentile_disc;\n",
    "    CREATE TEMP TABLE test_percentile_disc AS\n",
    "        (SELECT percentile_disc(0.2) within GROUP (ORDER BY __samp_out_label) AS __samp_out_label\n",
    "        FROM temp_nyc_label);\n",
    "\n",
    "    DROP TABLE IF EXISTS nyc_train;\n",
    "    CREATE TABLE nyc_train AS\n",
    "        (SELECT temp_nyc_label.*\n",
    "            FROM temp_nyc_label\n",
    "            INNER JOIN train_percentile_disc\n",
    "            ON temp_nyc_label.__samp_out_label <= train_percentile_disc.__samp_out_label\n",
    "        );\n",
    "    DROP TABLE IF EXISTS nyc_test;\n",
    "    CREATE TABLE nyc_test AS\n",
    "        (SELECT temp_nyc_label.*\n",
    "            FROM temp_nyc_label\n",
    "            INNER JOIN test_percentile_disc\n",
    "            ON temp_nyc_label.__samp_out_label <= test_percentile_disc.__samp_out_label\n",
    "        );\"\"\", has_results=False\n",
    ")"
   ],
   "metadata": {
    "collapsed": false
   }
  },
  {
   "cell_type": "code",
   "execution_count": 22,
   "outputs": [],
   "source": [
    "nyc_train = db.open_table(\"nyc_train\")\n",
    "nyc_test = db.open_table(\"nyc_test\")"
   ],
   "metadata": {
    "collapsed": false
   }
  },
  {
   "cell_type": "markdown",
   "source": [
    "## Data Modeling"
   ],
   "metadata": {
    "collapsed": false
   }
  },
  {
   "cell_type": "markdown",
   "source": [
    "### Model Training\n",
    "To begin, we want to build a linear regression model to predict the trip duration of NYC taxi using data `Table` in nyc_train."
   ],
   "metadata": {
    "collapsed": false
   }
  },
  {
   "cell_type": "code",
   "execution_count": 23,
   "outputs": [],
   "source": [
    "from typing import List\n",
    "\n",
    "# CREATE TYPE linreg_type AS (\n",
    "#    col_nm text[]\n",
    "#    , coef float8[]\n",
    "#    , intercept float8\n",
    "#    , serialized_linreg_model bytea\n",
    "# );\n",
    "\n",
    "\n",
    "class LinregType:\n",
    "    col_nm: List[str]\n",
    "    coef: List[float]\n",
    "    intercept: float\n",
    "    serialized_linreg_model: bytes\n",
    "\n",
    "\n",
    "# -- Create function\n",
    "# -- Need to specify the return type -> API will create the corresponding type in Greenplum to return a row\n",
    "# -- Will add argument to change language extensions, currently plpython3u by default\n",
    "\n",
    "@gp.create_array_function\n",
    "def linreg_func(vendor_id: List[float], passenger_count: List[float], store_and_fwd_flag: List[float], day_of_week: List[float],hour_of_the_day: List[float], month: List[float], distance: List[float], trip_duration: List[float]) -> LinregType:\n",
    "\n",
    "    import numpy as np\n",
    "    col_nm = [\"vendor_id\", \"passenger_count\", \"store_and_fwd_flag\", \"day_of_week\", \"hour_of_the_day\", \"month\", \"distance\"]\n",
    "    X=np.array([vendor_id, passenger_count, store_and_fwd_flag, day_of_week, hour_of_the_day, month, distance]).T\n",
    "    y=np.array([trip_duration]).T\n",
    "\n",
    "    from sklearn.linear_model import LinearRegression\n",
    "\n",
    "    # Fit the logistic regression model\n",
    "    lr_fit = LinearRegression().fit(X, y)\n",
    "\n",
    "    lr_coef = lr_fit.coef_\n",
    "    lr_intercept = lr_fit.intercept_\n",
    "\n",
    "    # Serialization of the fitted model\n",
    "    import six\n",
    "    pickle = six.moves.cPickle\n",
    "    lr_fit_model = pickle.dumps(lr_fit, protocol = 3)\n",
    "\n",
    "    return {\n",
    "        'col_nm': col_nm,\n",
    "        'coef' : lr_coef[0],\n",
    "        'intercept' : lr_intercept[0],\n",
    "        'serialized_linreg_model' : lr_fit_model\n",
    "    }"
   ],
   "metadata": {
    "collapsed": false
   }
  },
  {
   "cell_type": "markdown",
   "source": [
    "We apply our training function on our training data and obtain a new `Table' named linreg_fitted where stocked trained model."
   ],
   "metadata": {
    "collapsed": false
   }
  },
  {
   "cell_type": "code",
   "execution_count": 24,
   "outputs": [],
   "source": [
    "linreg_fitted = (\n",
    "    nyc_train.apply(lambda t: linreg_func(\n",
    "                                t[\"vendor_id\"],\n",
    "                                t[\"passenger_count\"],\n",
    "                                t[\"store_and_fwd_flag_int\"],\n",
    "                                t[\"day_of_week_int\"],\n",
    "                                t[\"hour_of_the_day\"],\n",
    "                                t[\"month\"],\n",
    "                                t[\"distance\"],\n",
    "                                t[\"trip_duration\"]\n",
    "                                ),\n",
    "    expand=True,\n",
    "    )\n",
    ") # Obtain the trained Linear Regression Model"
   ],
   "metadata": {
    "collapsed": false
   }
  },
  {
   "cell_type": "code",
   "execution_count": 25,
   "outputs": [
    {
     "data": {
      "text/plain": "| col_nm                                                                                                        || coef                                                                                                                                      || intercept          |\n====================================================================================================================================================================================================================================================================================\n| ['vendor_id', 'passenger_count', 'store_and_fwd_flag', 'day_of_week', 'hour_of_the_day', 'month', 'distance'] || [192.0847403027395, 7.822347337390298, 53.68572350116058, -2.3280204868372127, 4.602986436408932, 16.094583774740485, 116.43566563401572] || 136.98037611697077 |",
      "text/html": "<table>\n\t<tr>\n\t\t<th>col_nm</th>\n\t\t<th>coef</th>\n\t\t<th>intercept</th>\n\t</tr>\n\t<tr>\n\t\t<td>['vendor_id', 'passenger_count', 'store_and_fwd_flag', 'day_of_week', 'hour_of_the_day', 'month', 'distance']</td>\n\t\t<td>[192.0847403027395, 7.822347337390298, 53.68572350116058, -2.3280204868372127, 4.602986436408932, 16.094583774740485, 116.43566563401572]</td>\n\t\t<td>136.98037611697077</td>\n\t</tr>\n</table>"
     },
     "execution_count": 25,
     "metadata": {},
     "output_type": "execute_result"
    }
   ],
   "source": [
    "linreg_fitted[[\"col_nm\", \"coef\", \"intercept\"]] # Observe the model"
   ],
   "metadata": {
    "collapsed": false
   }
  },
  {
   "cell_type": "markdown",
   "source": [
    "### Prediction\n",
    "After training, we want to predict our test set, that's why we will need a predict function,depending on the inout values, it will return the trip duration computed by the trained model."
   ],
   "metadata": {
    "collapsed": false
   }
  },
  {
   "cell_type": "code",
   "execution_count": 26,
   "outputs": [],
   "source": [
    "@gp.create_function\n",
    "def linreg_pred_func(serialized_model: bytes, vendor_id: int, passenger_count: int, store_and_fwd_flag: int, day_of_week: int,hour_of_the_day: float, month: float, distance: float) -> float:\n",
    "    # Deserialize the serialized model\n",
    "    import six\n",
    "\n",
    "    pickle = six.moves.cPickle\n",
    "    model = pickle.loads(serialized_model)\n",
    "\n",
    "    features = [vendor_id, passenger_count, store_and_fwd_flag, day_of_week,\n",
    "                hour_of_the_day, month, distance]\n",
    "\n",
    "    # Predict the target variable\n",
    "    y_pred = model.predict([features])\n",
    "\n",
    "    return y_pred[0][0]"
   ],
   "metadata": {
    "collapsed": false
   }
  },
  {
   "cell_type": "markdown",
   "source": [
    "But before apply it on our test set, since test set and model are saving in two different `Table`, we need firstly join two table together."
   ],
   "metadata": {
    "collapsed": false
   }
  },
  {
   "cell_type": "code",
   "execution_count": 27,
   "outputs": [],
   "source": [
    "linreg_test_fit = linreg_fitted.cross_join(\n",
    "    nyc_test,\n",
    "    self_columns=[\"col_nm\", \"coef\", \"intercept\", \"serialized_linreg_model\"],\n",
    "    other_columns=[\"*\"],\n",
    ") # Since GreenplumPython can apply function on one table, we need to join model table and test set table"
   ],
   "metadata": {
    "collapsed": false
   }
  },
  {
   "cell_type": "code",
   "execution_count": 28,
   "outputs": [
    {
     "data": {
      "text/plain": "| col_nm                                                                                                        || coef                                                                                                                                     || intercept          || serialized_linreg_model                                                                                                                                                                                                                                                                                                                                                                                                                                                                                                                                                                                                                                                                                                                                                                                                                                                                                                                                                                                                                                                                                                                                                                                                                                                                  || vendor_id || passenger_count || store_and_fwd_flag_int || trip_duration || day_of_week_int || hour_of_the_day || month || distance           || __samp_out_label     |\n=======================================================================================================================================================================================================================================================================================================================================================================================================================================================================================================================================================================================================================================================================================================================================================================================================================================================================================================================================================================================================================================================================================================================================================================================================================================================================================================================================================================================================================================================================================================================================================================================================================================================================================================================================================\n| ['vendor_id', 'passenger_count', 'store_and_fwd_flag', 'day_of_week', 'hour_of_the_day', 'month', 'distance'] || [192.08474030924384, 7.822347337344347, 53.68572349958539, -2.328020486832102, 4.602986436420854, 16.09458377474276, 116.43566563401335] || 136.98037610688687 || \\x800363736b6c6561726e2e6c696e6561725f6d6f64656c2e5f626173650a4c696e65617252656772657373696f6e0a7100298171017d710228580d0000006669745f696e7465726365707471038858090000006e6f726d616c697a657104580a0000006465707265636174656471055806000000636f70795f5871068858060000006e5f6a6f627371074e5808000000706f736974697665710889580e0000006e5f66656174757265735f696e5f71094b075805000000636f65665f710a636e756d70792e636f72652e6d756c746961727261790a5f7265636f6e7374727563740a710b636e756d70790a6e6461727261790a710c4b0085710d430162710e87710f527110284b014b014b07867111636e756d70790a64747970650a71125802000000663871138988877114527115284b0358010000003c71164e4e4e4affffffff4affffffff4b00747117628943385e1b4f31b6026840f8629f6b154a1f40b268a2c9c5d74a4020e57a34c99f02c0c56fc146756912409c406ba43618304005851cf2e11b5d40711874711962580500000072616e6b5f711a4b07580900000073696e67756c61725f711b680b680c4b0085711c680e87711d52711e284b014b0785711f6815894338e251371cc102bb4099c48bf9cb00b2405107d5453670a0405397880b245b9c408f4637b7dc539640697299c71d048040ef49be6c62e35340712074712162580a000000696e746572636570745f7122680b680c4b00857123680e877124527125284b014b0185712668158943087c9bb63d5f1f614071277471286258100000005f736b6c6561726e5f76657273696f6e71295805000000312e312e32712a75622e ||         2 ||               1 ||                      0 ||          1274 ||               2 ||              22 ||     5 ||   3.80613939487619 ||  0.10143846247242294 |\n| ['vendor_id', 'passenger_count', 'store_and_fwd_flag', 'day_of_week', 'hour_of_the_day', 'month', 'distance'] || [192.08474030924384, 7.822347337344347, 53.68572349958539, -2.328020486832102, 4.602986436420854, 16.09458377474276, 116.43566563401335] || 136.98037610688687 || \\x800363736b6c6561726e2e6c696e6561725f6d6f64656c2e5f626173650a4c696e65617252656772657373696f6e0a7100298171017d710228580d0000006669745f696e7465726365707471038858090000006e6f726d616c697a657104580a0000006465707265636174656471055806000000636f70795f5871068858060000006e5f6a6f627371074e5808000000706f736974697665710889580e0000006e5f66656174757265735f696e5f71094b075805000000636f65665f710a636e756d70792e636f72652e6d756c746961727261790a5f7265636f6e7374727563740a710b636e756d70790a6e6461727261790a710c4b0085710d430162710e87710f527110284b014b014b07867111636e756d70790a64747970650a71125802000000663871138988877114527115284b0358010000003c71164e4e4e4affffffff4affffffff4b00747117628943385e1b4f31b6026840f8629f6b154a1f40b268a2c9c5d74a4020e57a34c99f02c0c56fc146756912409c406ba43618304005851cf2e11b5d40711874711962580500000072616e6b5f711a4b07580900000073696e67756c61725f711b680b680c4b0085711c680e87711d52711e284b014b0785711f6815894338e251371cc102bb4099c48bf9cb00b2405107d5453670a0405397880b245b9c408f4637b7dc539640697299c71d048040ef49be6c62e35340712074712162580a000000696e746572636570745f7122680b680c4b00857123680e877124527125284b014b0185712668158943087c9bb63d5f1f614071277471286258100000005f736b6c6561726e5f76657273696f6e71295805000000312e312e32712a75622e ||         2 ||               2 ||                      0 ||           900 ||               6 ||              15 ||     1 || 3.3173723813679055 || 0.032740062705734374 |\n| ['vendor_id', 'passenger_count', 'store_and_fwd_flag', 'day_of_week', 'hour_of_the_day', 'month', 'distance'] || [192.08474030924384, 7.822347337344347, 53.68572349958539, -2.328020486832102, 4.602986436420854, 16.09458377474276, 116.43566563401335] || 136.98037610688687 || \\x800363736b6c6561726e2e6c696e6561725f6d6f64656c2e5f626173650a4c696e65617252656772657373696f6e0a7100298171017d710228580d0000006669745f696e7465726365707471038858090000006e6f726d616c697a657104580a0000006465707265636174656471055806000000636f70795f5871068858060000006e5f6a6f627371074e5808000000706f736974697665710889580e0000006e5f66656174757265735f696e5f71094b075805000000636f65665f710a636e756d70792e636f72652e6d756c746961727261790a5f7265636f6e7374727563740a710b636e756d70790a6e6461727261790a710c4b0085710d430162710e87710f527110284b014b014b07867111636e756d70790a64747970650a71125802000000663871138988877114527115284b0358010000003c71164e4e4e4affffffff4affffffff4b00747117628943385e1b4f31b6026840f8629f6b154a1f40b268a2c9c5d74a4020e57a34c99f02c0c56fc146756912409c406ba43618304005851cf2e11b5d40711874711962580500000072616e6b5f711a4b07580900000073696e67756c61725f711b680b680c4b0085711c680e87711d52711e284b014b0785711f6815894338e251371cc102bb4099c48bf9cb00b2405107d5453670a0405397880b245b9c408f4637b7dc539640697299c71d048040ef49be6c62e35340712074712162580a000000696e746572636570745f7122680b680c4b00857123680e877124527125284b014b0185712668158943087c9bb63d5f1f614071277471286258100000005f736b6c6561726e5f76657273696f6e71295805000000312e312e32712a75622e ||         2 ||               3 ||                      0 ||           337 ||               5 ||              17 ||     1 || 1.3369823795887859 || 0.044952262747788296 |",
      "text/html": "<table>\n\t<tr>\n\t\t<th>col_nm</th>\n\t\t<th>coef</th>\n\t\t<th>intercept</th>\n\t\t<th>serialized_linreg_model</th>\n\t\t<th>vendor_id</th>\n\t\t<th>passenger_count</th>\n\t\t<th>store_and_fwd_flag_int</th>\n\t\t<th>trip_duration</th>\n\t\t<th>day_of_week_int</th>\n\t\t<th>hour_of_the_day</th>\n\t\t<th>month</th>\n\t\t<th>distance</th>\n\t\t<th>__samp_out_label</th>\n\t</tr>\n\t<tr>\n\t\t<td>['vendor_id', 'passenger_count', 'store_and_fwd_flag', 'day_of_week', 'hour_of_the_day', 'month', 'distance']</td>\n\t\t<td>[192.08474030924384, 7.822347337344347, 53.68572349958539, -2.328020486832102, 4.602986436420854, 16.09458377474276, 116.43566563401335]</td>\n\t\t<td>136.98037610688687</td>\n\t\t<td>\\x800363736b6c6561726e2e6c696e6561725f6d6f64656c2e5f626173650a4c696e65617252656772657373696f6e0a7100298171017d710228580d0000006669745f696e7465726365707471038858090000006e6f726d616c697a657104580a0000006465707265636174656471055806000000636f70795f5871068858060000006e5f6a6f627371074e5808000000706f736974697665710889580e0000006e5f66656174757265735f696e5f71094b075805000000636f65665f710a636e756d70792e636f72652e6d756c746961727261790a5f7265636f6e7374727563740a710b636e756d70790a6e6461727261790a710c4b0085710d430162710e87710f527110284b014b014b07867111636e756d70790a64747970650a71125802000000663871138988877114527115284b0358010000003c71164e4e4e4affffffff4affffffff4b00747117628943385e1b4f31b6026840f8629f6b154a1f40b268a2c9c5d74a4020e57a34c99f02c0c56fc146756912409c406ba43618304005851cf2e11b5d40711874711962580500000072616e6b5f711a4b07580900000073696e67756c61725f711b680b680c4b0085711c680e87711d52711e284b014b0785711f6815894338e251371cc102bb4099c48bf9cb00b2405107d5453670a0405397880b245b9c408f4637b7dc539640697299c71d048040ef49be6c62e35340712074712162580a000000696e746572636570745f7122680b680c4b00857123680e877124527125284b014b0185712668158943087c9bb63d5f1f614071277471286258100000005f736b6c6561726e5f76657273696f6e71295805000000312e312e32712a75622e</td>\n\t\t<td>2</td>\n\t\t<td>1</td>\n\t\t<td>0</td>\n\t\t<td>1274</td>\n\t\t<td>2</td>\n\t\t<td>22</td>\n\t\t<td>5</td>\n\t\t<td>3.80613939487619</td>\n\t\t<td>0.10143846247242294</td>\n\t</tr>\n\t<tr>\n\t\t<td>['vendor_id', 'passenger_count', 'store_and_fwd_flag', 'day_of_week', 'hour_of_the_day', 'month', 'distance']</td>\n\t\t<td>[192.08474030924384, 7.822347337344347, 53.68572349958539, -2.328020486832102, 4.602986436420854, 16.09458377474276, 116.43566563401335]</td>\n\t\t<td>136.98037610688687</td>\n\t\t<td>\\x800363736b6c6561726e2e6c696e6561725f6d6f64656c2e5f626173650a4c696e65617252656772657373696f6e0a7100298171017d710228580d0000006669745f696e7465726365707471038858090000006e6f726d616c697a657104580a0000006465707265636174656471055806000000636f70795f5871068858060000006e5f6a6f627371074e5808000000706f736974697665710889580e0000006e5f66656174757265735f696e5f71094b075805000000636f65665f710a636e756d70792e636f72652e6d756c746961727261790a5f7265636f6e7374727563740a710b636e756d70790a6e6461727261790a710c4b0085710d430162710e87710f527110284b014b014b07867111636e756d70790a64747970650a71125802000000663871138988877114527115284b0358010000003c71164e4e4e4affffffff4affffffff4b00747117628943385e1b4f31b6026840f8629f6b154a1f40b268a2c9c5d74a4020e57a34c99f02c0c56fc146756912409c406ba43618304005851cf2e11b5d40711874711962580500000072616e6b5f711a4b07580900000073696e67756c61725f711b680b680c4b0085711c680e87711d52711e284b014b0785711f6815894338e251371cc102bb4099c48bf9cb00b2405107d5453670a0405397880b245b9c408f4637b7dc539640697299c71d048040ef49be6c62e35340712074712162580a000000696e746572636570745f7122680b680c4b00857123680e877124527125284b014b0185712668158943087c9bb63d5f1f614071277471286258100000005f736b6c6561726e5f76657273696f6e71295805000000312e312e32712a75622e</td>\n\t\t<td>2</td>\n\t\t<td>2</td>\n\t\t<td>0</td>\n\t\t<td>900</td>\n\t\t<td>6</td>\n\t\t<td>15</td>\n\t\t<td>1</td>\n\t\t<td>3.3173723813679055</td>\n\t\t<td>0.032740062705734374</td>\n\t</tr>\n\t<tr>\n\t\t<td>['vendor_id', 'passenger_count', 'store_and_fwd_flag', 'day_of_week', 'hour_of_the_day', 'month', 'distance']</td>\n\t\t<td>[192.08474030924384, 7.822347337344347, 53.68572349958539, -2.328020486832102, 4.602986436420854, 16.09458377474276, 116.43566563401335]</td>\n\t\t<td>136.98037610688687</td>\n\t\t<td>\\x800363736b6c6561726e2e6c696e6561725f6d6f64656c2e5f626173650a4c696e65617252656772657373696f6e0a7100298171017d710228580d0000006669745f696e7465726365707471038858090000006e6f726d616c697a657104580a0000006465707265636174656471055806000000636f70795f5871068858060000006e5f6a6f627371074e5808000000706f736974697665710889580e0000006e5f66656174757265735f696e5f71094b075805000000636f65665f710a636e756d70792e636f72652e6d756c746961727261790a5f7265636f6e7374727563740a710b636e756d70790a6e6461727261790a710c4b0085710d430162710e87710f527110284b014b014b07867111636e756d70790a64747970650a71125802000000663871138988877114527115284b0358010000003c71164e4e4e4affffffff4affffffff4b00747117628943385e1b4f31b6026840f8629f6b154a1f40b268a2c9c5d74a4020e57a34c99f02c0c56fc146756912409c406ba43618304005851cf2e11b5d40711874711962580500000072616e6b5f711a4b07580900000073696e67756c61725f711b680b680c4b0085711c680e87711d52711e284b014b0785711f6815894338e251371cc102bb4099c48bf9cb00b2405107d5453670a0405397880b245b9c408f4637b7dc539640697299c71d048040ef49be6c62e35340712074712162580a000000696e746572636570745f7122680b680c4b00857123680e877124527125284b014b0185712668158943087c9bb63d5f1f614071277471286258100000005f736b6c6561726e5f76657273696f6e71295805000000312e312e32712a75622e</td>\n\t\t<td>2</td>\n\t\t<td>3</td>\n\t\t<td>0</td>\n\t\t<td>337</td>\n\t\t<td>5</td>\n\t\t<td>17</td>\n\t\t<td>1</td>\n\t\t<td>1.3369823795887859</td>\n\t\t<td>0.044952262747788296</td>\n\t</tr>\n</table>"
     },
     "execution_count": 28,
     "metadata": {},
     "output_type": "execute_result"
    }
   ],
   "source": [
    "linreg_test_fit[:3]"
   ],
   "metadata": {
    "collapsed": false
   }
  },
  {
   "cell_type": "markdown",
   "source": [
    "Now, we can begin the prediction"
   ],
   "metadata": {
    "collapsed": false
   }
  },
  {
   "cell_type": "code",
   "execution_count": 29,
   "outputs": [],
   "source": [
    "linreg_pred = linreg_test_fit.assign(\n",
    "    pred=lambda t: linreg_pred_func(\n",
    "            t[\"serialized_linreg_model\"],\n",
    "            t[\"vendor_id\"],\n",
    "            t[\"passenger_count\"],\n",
    "            t[\"store_and_fwd_flag_int\"],\n",
    "            t[\"day_of_week_int\"],\n",
    "            t[\"hour_of_the_day\"],\n",
    "            t[\"month\"],\n",
    "            t[\"distance\"],\n",
    "        ),\n",
    ")[[\"trip_duration\", \"pred\"]] # Predict test set"
   ],
   "metadata": {
    "collapsed": false
   }
  },
  {
   "cell_type": "code",
   "execution_count": 30,
   "outputs": [
    {
     "data": {
      "text/plain": "| trip_duration || pred               |\n=======================================\n|          1274 || 1149.2251575022772 |\n|           900 ||  994.2262701805902 |\n|           337 ||  782.9945828055118 |\n|           913 || 1175.0894969524852 |\n|           138 ||  700.7955972495773 |",
      "text/html": "<table>\n\t<tr>\n\t\t<th>trip_duration</th>\n\t\t<th>pred</th>\n\t</tr>\n\t<tr>\n\t\t<td>1274</td>\n\t\t<td>1149.2251575022772</td>\n\t</tr>\n\t<tr>\n\t\t<td>900</td>\n\t\t<td>994.2262701805902</td>\n\t</tr>\n\t<tr>\n\t\t<td>337</td>\n\t\t<td>782.9945828055118</td>\n\t</tr>\n\t<tr>\n\t\t<td>913</td>\n\t\t<td>1175.0894969524852</td>\n\t</tr>\n\t<tr>\n\t\t<td>138</td>\n\t\t<td>700.7955972495773</td>\n\t</tr>\n</table>"
     },
     "execution_count": 30,
     "metadata": {},
     "output_type": "execute_result"
    }
   ],
   "source": [
    "linreg_pred[:5]"
   ],
   "metadata": {
    "collapsed": false
   }
  },
  {
   "cell_type": "markdown",
   "source": [
    "## Model Evaluation"
   ],
   "metadata": {
    "collapsed": false
   }
  },
  {
   "cell_type": "markdown",
   "source": [
    "It will be difficult to evaluate performance of our model by observing data one by one, so we need to create a function to compare the real trip duration and trip duration computed by model."
   ],
   "metadata": {
    "collapsed": false
   }
  },
  {
   "cell_type": "code",
   "execution_count": 31,
   "outputs": [],
   "source": [
    "class linreg_eval_type:\n",
    "    mae: float\n",
    "    mape: float\n",
    "    mse: float\n",
    "    r2_score: float"
   ],
   "metadata": {
    "collapsed": false
   }
  },
  {
   "cell_type": "code",
   "execution_count": 32,
   "outputs": [],
   "source": [
    "@gp.create_array_function\n",
    "def linreg_eval(y_actual: List[float], y_pred: List[float]) -> linreg_eval_type:\n",
    "    from sklearn.metrics import mean_absolute_error, mean_squared_error, r2_score\n",
    "    import numpy as np\n",
    "\n",
    "    mae = mean_absolute_error(y_actual, y_pred)\n",
    "    mse = mean_squared_error(y_actual, y_pred)\n",
    "    r2_score = r2_score(y_actual, y_pred)\n",
    "\n",
    "    y_pred_f = np.array(y_pred, dtype=float)\n",
    "    mape = 100 * sum(abs(y_actual - y_pred_f) / y_actual) / len(y_actual)\n",
    "\n",
    "    # eval_score = [mae, mape, mse, r2_score]\n",
    "\n",
    "    return {\"mae\": mae, \"mape\": mape, \"mse\": mse, \"r2_score\": r2_score}"
   ],
   "metadata": {
    "collapsed": false
   }
  },
  {
   "cell_type": "code",
   "execution_count": 33,
   "outputs": [
    {
     "data": {
      "text/plain": "| mae               || mape             || mse               || r2_score             |\n======================================================================================\n| 470.2574016869885 || 96.6737826759858 || 66430955.50738679 || 0.004744146807444949 |",
      "text/html": "<table>\n\t<tr>\n\t\t<th>mae</th>\n\t\t<th>mape</th>\n\t\t<th>mse</th>\n\t\t<th>r2_score</th>\n\t</tr>\n\t<tr>\n\t\t<td>470.2574016869885</td>\n\t\t<td>96.6737826759858</td>\n\t\t<td>66430955.50738679</td>\n\t\t<td>0.004744146807444949</td>\n\t</tr>\n</table>"
     },
     "execution_count": 33,
     "metadata": {},
     "output_type": "execute_result"
    }
   ],
   "source": [
    "linreg_pred.apply(\n",
    "    lambda t: linreg_eval(t[\"trip_duration\"], t[\"pred\"]), expand=True)"
   ],
   "metadata": {
    "collapsed": false
   }
  },
  {
   "cell_type": "markdown",
   "source": [
    "Our model is not very good in terms of accuracy and error, need to find another model which can improve accuracy, for example XGboost."
   ],
   "metadata": {
    "collapsed": false
   }
  },
  {
   "cell_type": "code",
   "execution_count": 33,
   "outputs": [],
   "source": [],
   "metadata": {
    "collapsed": false
   }
  }
 ],
 "metadata": {
  "kernelspec": {
   "display_name": "Python 3",
   "language": "python",
   "name": "python3"
  },
  "language_info": {
   "codemirror_mode": {
    "name": "ipython",
    "version": 2
   },
   "file_extension": ".py",
   "mimetype": "text/x-python",
   "name": "python",
   "nbconvert_exporter": "python",
   "pygments_lexer": "ipython2",
   "version": "2.7.6"
  }
 },
 "nbformat": 4,
 "nbformat_minor": 0
}
